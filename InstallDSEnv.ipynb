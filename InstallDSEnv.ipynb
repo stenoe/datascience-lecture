{
 "cells": [
  {
   "cell_type": "markdown",
   "id": "charged-criminal",
   "metadata": {},
   "source": [
    "# Installing a datascience environment"
   ]
  },
  {
   "cell_type": "markdown",
   "id": "precise-phrase",
   "metadata": {},
   "source": [
    "## Choices"
   ]
  },
  {
   "cell_type": "markdown",
   "id": "known-situation",
   "metadata": {},
   "source": [
    "### Which tool to use?\n",
    "\n",
    "There are many tools available for use with data analysis and data processing. One tool of choice is the [Jupyter](https://jupyter.org) notebook environment. It allows interactive processing of data in different programming languages like [Python](https://www.python.org), [R](https://www.r-project.org), and much [more](https://github.com/jupyter/jupyter/wiki/Jupyter-kernels). This, however, makes it a perfect interactive tool because it can be used with the language preferred. \n",
    "\n",
    "There are, of course proprietary software tools like [Mathematica](https://www.wolfram.com/mathematica/) or [Matlab](https://se.mathworks.com/products/matlab.html) of which Mathematica used already from the beginning an interactive notebook environmet and todays Matlab version also have a similar solution available. \n",
    "\n",
    "[Jupyter notebooks](https://en.wikipedia.org/wiki/Project_Jupyter) are a freely available and a web-based [notebook computing environent](https://en.wikipedia.org/wiki/Notebook_interface) that can run in an internet browser. Jupyter notebooks allow literate programming: a way to make programs more readable and understandable to humans. Inside the notebook, we can add text and program code at the same time. It is possible to execute the code and to see the output inside the notebook instantly. This defines a readable document rather than a code piece.   "
   ]
  },
  {
   "cell_type": "markdown",
   "id": "imported-birthday",
   "metadata": {},
   "source": [
    "### Which type of notebook system to use?\n",
    "\n",
    "We have basically two choices here:\n",
    "\n",
    "1. Install and build the Jupyter system from a bundle\n",
    "2. Install a pre-build system\n",
    "\n",
    "#### Option 1\n",
    "The pro's of option 1 are that you have the full control on the system and there are different choices again. The most known systems are [Anaconda](https://www.anaconda.com) and it's more lean version [Miniconda](https://docs.conda.io/en/latest/miniconda.html). While Anaconda gives you a GUI tool and package manager it might be the tool of choice if you are a beginner and would like to have access to a plethora of packages that are available and istall them at once. Anaconda will eat up about 3GB of disk space. The Miniconda system, however has also the access to these packages but it comes with a command line interface. Here, you have less disk space used but you need to install the packages that are necessary by yourself. Both are available for Mac, Linux and Windows. There is as well the [EDM](https://assets.enthought.com/downloads/) (formely Canopy) by Enthought which also has both, a GUI and a commandline interface. \n",
    "\n",
    "The con's of option 1 are that you have the responsibility to maintain and install needed packages by yourself. This might be simple if you are not in need of different packages that may depend on different versions but can be complex if e.g. a package need to have a certain version. In thic case, however all of the systems above allow to create 'environments' in which can be different versions installed to meet your needs.\n",
    "\n",
    "#### Option 2\n",
    "For option 2, the simplest solution is [Docker](https://www.docker.com). The Docker envinronment enables your system to use so called 'containers'. A container is, in very simplified words, the possibility to run things (programs, apps etc) in a capsule. But, bare in mind, if installed locally the container uses resources of your computer. The benfit is as example, if you crash your 'thing' (the app does not respond anymore) the rest of your computer works on. You just shut down the container and restart it. Another benefit is that it helps you not to clutter up your computer with many libraries etc you may not need all the time. If you are done with your job, you can delete the container and it can be reinstalled. You can use containerised systems like the datascience notebook from [Jupyter Docker Stacks](https://jupyter-docker-stacks.readthedocs.io/en/latest/) which are tested and available via [DockerHub](https://hub.docker.com/r/jupyter/datascience-notebook/).\n",
    "\n",
    "The con's for the option 2 are that you need to learn some command line commands and how to enable the container to see your notebooks. This needs some understanding of your file system and maybe a bit of planning where to put some folder seen by your container."
   ]
  },
  {
   "cell_type": "markdown",
   "id": "optional-airfare",
   "metadata": {},
   "source": [
    "## Installation\n",
    "\n",
    "Note, here will be no system specific help or troubleshooting given. Please refer to your systems documentation. The major examples will be made on MacOS which are typically similar on Linux. For Windows systems the internet has a lot of troubleshooting available."
   ]
  },
  {
   "cell_type": "markdown",
   "id": "medical-suggestion",
   "metadata": {},
   "source": [
    "### Anaconda\n",
    "\n",
    "Go to the website and [download](https://www.anaconda.com/products/individual) the individual free version for your system. Install it according to the installers instructions.\n",
    "\n",
    "<img src='anaconinstal.png' width='700'>\n",
    "\n"
   ]
  },
  {
   "cell_type": "markdown",
   "id": "strange-ottawa",
   "metadata": {},
   "source": [
    "### Miniconda\n",
    "\n",
    "Go to the website and [download](https://docs.conda.io/en/latest/miniconda.html) the fitting version for your system. There are different installers for Windows, MacOS, and Linux. Depending on your needs, Miniconda offers the versions for a Python 2.x and 3.x, whereof the 3.8 version is the latests this time. \n",
    "\n",
    "Install it following the installers instructions.\n"
   ]
  },
  {
   "cell_type": "markdown",
   "id": "opening-future",
   "metadata": {},
   "source": [
    "<img style='float: right;' src='dockerinst.png' width='200'>\n",
    "\n",
    "### Docker\n",
    "\n",
    "First, go to the website and [download](https://www.docker.com/get-started) the Docker Desktop for your system. \n",
    "\n",
    "There are versions for Windows, MacOS and Linux. For Linux, there might be already Docker packages of the distribution you use and you need to refer to the way how these are installed on yout specific  system. Alternatetivly, you can have a look on the Linux link in the Docker website. \n",
    "\n",
    "In case you want to build own Docker containers and you want to share them, it's a good idea to sign up to the [Docker Hub](https://docs.docker.com/docker-hub/). There is as well access to available containers and a search for containers available. \n",
    "\n",
    "Install it according to the installers instructions.\n",
    "\n"
   ]
  },
  {
   "cell_type": "markdown",
   "id": "hindu-medium",
   "metadata": {},
   "source": [
    "### Use Jupyter Docker Stacks\n",
    "\n",
    "Once Docker is installed you can use it to download and start a container. For datascience, the datascience notebook is a good choice. You need first to  create a new directory where you want to store the notebooks you are working with. In the container, this is the place the notebook or Jupyter lab will see from your harddrive. \n",
    "\n",
    "In our example, open a terminal on MacOS or Linux or the command or power shell on Windows and type:\n",
    "\n",
    "```\n",
    "mkdir docker\n",
    "mkdir docker/notebooks\n",
    "```\n",
    "\n",
    "which will create two directories in my user main folder, one called ```docker```and inside it one called ```notebooks```. You can use any other way to create some directory but I use this to show how to start the container. In my example, the structure is:\n",
    "\n",
    "<img src='directory.png' width='500'>\n",
    "\n",
    "If you use other names and locations please adapt the commands below accordingly. \n",
    "\n",
    "```\n",
    "docker run -p 8888:8888 -v ~/docker/notebooks:/home/jovyan jupyter/datascience-notebook:latest \n",
    "```\n",
    "\n",
    "which will start a notebook environment. If you add the ```start.sh jupyter lab``` command to the end \n",
    "\n",
    "```\n",
    "docker run -p 8888:8888 -v ~/docker/notebooks:/home/jovyan jupyter/datascience-notebook:latest start.sh jupyter lab\n",
    "```\n",
    "\n",
    "the Jupter lab IDE will be started. I use for the next steps this latest command and give some explanation on the elements of this command [a bit later](#explanations)."
   ]
  },
  {
   "cell_type": "markdown",
   "id": "statutory-implementation",
   "metadata": {},
   "source": [
    "#### What happens after this command?\n",
    "\n",
    "Your terminal will show a bunch of text lines as below: \n",
    "The most important part is the info how to access your just freshly started notebook server that is running in a Docker container at the end of this text output!\n",
    "\n",
    "```\n",
    "Steffens-Mac-Pro:~ steffen$ docker run -p 8888:8888 -v ~/docker/notebooks:/home/jovyan jupyter/datascience-notebook:latest start.sh jupyter lab\n",
    "Executing the command: jupyter lab\n",
    "[I 2021-03-01 10:54:12.041 ServerApp] jupyterlab | extension was successfully linked.\n",
    "[W 2021-03-01 10:54:12.052 NotebookApp] 'ip' has moved from NotebookApp to ServerApp. This config will be passed to ServerApp. Be sure to update your config before our next release.\n",
    "[W 2021-03-01 10:54:12.052 NotebookApp] 'port' has moved from NotebookApp to ServerApp. This config will be passed to ServerApp. Be sure to update your config before our next release.\n",
    "[W 2021-03-01 10:54:12.052 NotebookApp] 'port' has moved from NotebookApp to ServerApp. This config will be passed to ServerApp. Be sure to update your config before our next release.\n",
    "[I 2021-03-01 10:54:12.314 ServerApp] nbclassic | extension was successfully linked.\n",
    "[I 2021-03-01 10:54:12.390 LabApp] JupyterLab extension loaded from /opt/conda/lib/python3.8/site-packages/jupyterlab\n",
    "[I 2021-03-01 10:54:12.390 LabApp] JupyterLab application directory is /opt/conda/share/jupyter/lab\n",
    "[I 2021-03-01 10:54:12.394 ServerApp] jupyterlab | extension was successfully loaded.\n",
    "[I 2021-03-01 10:54:12.400 ServerApp] nbclassic | extension was successfully loaded.\n",
    "[I 2021-03-01 10:54:12.401 ServerApp] Serving notebooks from local directory: /home/jovyan\n",
    "[I 2021-03-01 10:54:12.401 ServerApp] Jupyter Server 1.4.1 is running at:\n",
    "[I 2021-03-01 10:54:12.401 ServerApp] http://b8d72b46cfbc:8888/lab?token=e5f4652898c45834298c0506d8c48aaf31718d9dbd482439\n",
    "[I 2021-03-01 10:54:12.402 ServerApp]  or http://127.0.0.1:8888/lab?token=e5f4652898c45834298c0506d8c48aaf31718d9dbd482439\n",
    "[I 2021-03-01 10:54:12.402 ServerApp] Use Control-C to stop this server and shut down all kernels (twice to skip confirmation).\n",
    "[W 2021-03-01 10:54:12.413 ServerApp] No web browser found: could not locate runnable browser.\n",
    "[C 2021-03-01 10:54:12.414 ServerApp] \n",
    "    \n",
    "    To access the server, open this file in a browser:\n",
    "        file:///home/jovyan/.local/share/jupyter/runtime/jpserver-8-open.html\n",
    "    Or copy and paste one of these URLs:\n",
    "        http://b8d72b46cfbc:8888/lab?token=e5f4652898c45834298c0506d8c48aaf31718d9dbd482439\n",
    "     or http://127.0.0.1:8888/lab?token=e5f4652898c45834298c0506d8c48aaf31718d9dbd48243`\n",
    "```\n",
    "\n",
    "\n",
    "#### How to accesss the notebook in the container\n",
    "\n",
    "To run your Jupyter notebook or in this example the Jupyter lab IDE copy the line:\n",
    "\n",
    "```\n",
    "http://127.0.0.1:8888/lab?token=e5f4652898c45834298c0506d8c48aaf31718d9dbd48243\n",
    "```\n",
    "\n",
    "into your browser's entry field. \n",
    "\n",
    "<img src='browserin.png'>\n",
    "\n",
    "Then you should see the Jupyter lab IDE in your browser. And you can start new notebooks with Python, R or even Julia as language from the dashboard.\n",
    "\n",
    "<img src='jupyterlabdash.png'>\n",
    "\n",
    "To shut down the system you can open the menu and choose shutdown.\n",
    "\n",
    "<img src='menu.png'>\n",
    "\n",
    "This will stop the Jupyter notebook server and if you want to go on you need to start it again with the command as above. Remind, each time you restart, the token will be another one. Sometimes, it may happen that your browser has still the old token in the memory and you might get not the dashboard but some login screen. In this case, it's easiest to restart the browser, second easiest, copy the latest valid token to the login field.\n"
   ]
  },
  {
   "cell_type": "markdown",
   "id": "unable-brush",
   "metadata": {},
   "source": [
    "<a id='explanations'></a>\n",
    "## Some explanations\n",
    "\n",
    "### The Docker command\n",
    "\n",
    "```\n",
    "docker run -p 8888:8888 -v ~/docker/notebooks:/home/jovyan jupyter/datascience-notebook:latest start.sh jupyter lab\n",
    "```\n",
    "\n",
    "What does the ```docker``` command tell? It first will run the container with the name ```jupyter/datascience-notebook``` and as we used ```:latest``` the system will get the latest version on the web if the contaioner is not already existing.\n",
    "\n",
    "There are two important things to explain, the ```-p 8888:8888``` or ```--publish 8888:8888``` will tell the container which ports to be exposed to the host (your computer) system. There are two because this works as a mapping. The host port 8888 is mapped to the container port 8888 in this case. If you use as example ```-p 8080:8888``` the container port 8888 is mapped to 8080 on your computer. \n",
    "\n",
    "The volume or harddrive where I store my notebooks on my system was set in the example to ```/Users/steffen/docker/notebooks/``` and this might be differernt on your system. We need to link this directory to the container to exchange notebooks and data. We use the ```-v``` or ```--volume``` command to do this. In the example it maps ```~/docker/notebooks``` (which is short for ```/Users/steffen/docker/notebooks/``` on MacOS and Linux systems) to the directory ```/home/jovyan``` in the container. This name is fixed becasue it's the name of the one who created the container for us.\n",
    "\n",
    "Using the ```start.sh jupyter lab``` sequence will that into the Jupyter lab IDE, as show before. Here, we can use optionally the command:\n",
    "\n",
    "```\n",
    "docker run -p 8888:8888 -v ~/docker/notebooks:/home/jovyan jupyter/datascience-notebook:latest \n",
    "```\n",
    "\n",
    "Which starts the notebook environment and looks then as follows:\n",
    "\n",
    "<img src='notebookenv.png'>\n",
    "\n",
    "\n",
    "In this page you see the existing notebooks and also have a possibility to start new ones."
   ]
  },
  {
   "cell_type": "code",
   "execution_count": null,
   "id": "acquired-yeast",
   "metadata": {},
   "outputs": [],
   "source": []
  }
 ],
 "metadata": {
  "kernelspec": {
   "display_name": "Python 3",
   "language": "python",
   "name": "python3"
  },
  "language_info": {
   "codemirror_mode": {
    "name": "ipython",
    "version": 3
   },
   "file_extension": ".py",
   "mimetype": "text/x-python",
   "name": "python",
   "nbconvert_exporter": "python",
   "pygments_lexer": "ipython3",
   "version": "3.9.1"
  }
 },
 "nbformat": 4,
 "nbformat_minor": 5
}
